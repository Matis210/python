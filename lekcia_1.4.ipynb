{
 "cells": [
  {
   "cell_type": "code",
   "execution_count": null,
   "id": "f5059632",
   "metadata": {},
   "outputs": [],
   "source": [
    "import math\n",
    "import random"
   ]
  },
  {
   "cell_type": "code",
   "execution_count": null,
   "id": "e27578a5",
   "metadata": {
    "scrolled": true
   },
   "outputs": [],
   "source": [
    "print(\"          ???          \")\n",
    "print(\"[R] [A] [N] [D] [O] [M]: [?]\")"
   ]
  },
  {
   "cell_type": "code",
   "execution_count": null,
   "id": "a8271498",
   "metadata": {},
   "outputs": [],
   "source": [
    "denied = 0\n",
    "number = random.randint(1,50)\n",
    "while(True):\n",
    "    guess = int(input(\"Which number is my guess? (1-50): \"))\n",
    "    if(denied == 10):\n",
    "       print(\"GAME OVER!\")\n",
    "       print(\"Guesses limit exceeded. Reseting back to 10 attempts...\")\n",
    "       denied=0\n",
    "    elif(guess==number):\n",
    "        print(\"BINGO!\")\n",
    "        print(f\"Number of denied attempts: {denied}\")\n",
    "        print(\"          YOU GOT IT        \")\n",
    "        print(f\"[R] [A] [N] [D] [O] [M]: [{guess}]\")\n",
    "        denied = 0\n",
    "    elif(guess>number):\n",
    "        if((guess-5) <= number):\n",
    "            print(\"Try to subtract up to 5 value, to your guess value to get it.\")\n",
    "            denied = denied+1\n",
    "        else:\n",
    "            print(\"Your guessed value is too big.\")\n",
    "            denied = denied+1\n",
    "    elif(guess<number):\n",
    "        if((guess+5) >= number):\n",
    "            print(\"Try to add up to 5 value , to your guess value to get it.\")\n",
    "            denied = denied+1\n",
    "        else:\n",
    "            print(\"Your guessed value is too small.\")\n",
    "            denied = denied+1"
   ]
  },
  {
   "cell_type": "code",
   "execution_count": null,
   "id": "71f94413",
   "metadata": {},
   "outputs": [],
   "source": []
  },
  {
   "cell_type": "code",
   "execution_count": null,
   "id": "78bfd90d",
   "metadata": {},
   "outputs": [],
   "source": []
  }
 ],
 "metadata": {
  "kernelspec": {
   "display_name": "Python 3 (ipykernel)",
   "language": "python",
   "name": "python3"
  },
  "language_info": {
   "codemirror_mode": {
    "name": "ipython",
    "version": 3
   },
   "file_extension": ".py",
   "mimetype": "text/x-python",
   "name": "python",
   "nbconvert_exporter": "python",
   "pygments_lexer": "ipython3",
   "version": "3.11.5"
  }
 },
 "nbformat": 4,
 "nbformat_minor": 5
}
