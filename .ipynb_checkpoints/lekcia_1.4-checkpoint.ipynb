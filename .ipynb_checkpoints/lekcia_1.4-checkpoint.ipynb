{
 "cells": [
  {
   "cell_type": "code",
   "execution_count": 1,
   "id": "f5059632",
   "metadata": {},
   "outputs": [],
   "source": [
    "import math\n",
    "import random"
   ]
  },
  {
   "cell_type": "code",
   "execution_count": 2,
   "id": "e27578a5",
   "metadata": {
    "scrolled": true
   },
   "outputs": [
    {
     "name": "stdout",
     "output_type": "stream",
     "text": [
      "          ???          \n",
      "[R] [A] [N] [D] [O] [M]: [?]\n"
     ]
    }
   ],
   "source": [
    "print(\"          ???          \")\n",
    "print(\"[R] [A] [N] [D] [O] [M]: [?]\")"
   ]
  },
  {
   "cell_type": "code",
   "execution_count": null,
   "id": "a8271498",
   "metadata": {},
   "outputs": [
    {
     "name": "stdout",
     "output_type": "stream",
     "text": [
      "Which number is my guess? (1-50): 45\n",
      "Try to add up to 5 value , to your guess value to get it.\n",
      "Which number is my guess? (1-50): 48\n",
      "Try to subtract up to 5 value, to your guess value to get it.\n",
      "Which number is my guess? (1-50): 47\n",
      "BINGO!\n",
      "Number of denied attempts: 5\n",
      "          YOU GOT IT        \n",
      "[R] [A] [N] [D] [O] [M]: [47]\n"
     ]
    }
   ],
   "source": [
    "denied = 0\n",
    "number = random.randint(1,50)\n",
    "while(True):\n",
    "    guess = int(input(\"Which number is my guess? (1-50): \"))\n",
    "    if(denied == 10):\n",
    "       print(\"GAME OVER!\")\n",
    "       print(\"Guesses limit exceeded. Reseting back to 10 attempts...\")\n",
    "       denied=0\n",
    "    elif(guess==number):\n",
    "        print(\"BINGO!\")\n",
    "        print(f\"Number of denied attempts: {denied}\")\n",
    "        print(\"          YOU GOT IT        \")\n",
    "        print(f\"[R] [A] [N] [D] [O] [M]: [{guess}]\")\n",
    "        denied = 0\n",
    "    elif(guess>number):\n",
    "        if((guess-5) <= number):\n",
    "            print(\"Try to subtract up to 5 value, to your guess value to get it.\")\n",
    "            denied = denied+1\n",
    "        else:\n",
    "            print(\"Your guessed value is too big.\")\n",
    "            denied = denied+1\n",
    "    elif(guess<number):\n",
    "        if((guess+5) >= number):\n",
    "            print(\"Try to add up to 5 value , to your guess value to get it.\")\n",
    "            denied = denied+1\n",
    "        else:\n",
    "            print(\"Your guessed value is too small.\")\n",
    "            denied = denied+1"
   ]
  },
  {
   "cell_type": "code",
   "execution_count": null,
   "id": "71f94413",
   "metadata": {},
   "outputs": [],
   "source": []
  },
  {
   "cell_type": "code",
   "execution_count": null,
   "id": "20b52640",
   "metadata": {},
   "outputs": [],
   "source": []
  }
 ],
 "metadata": {
  "kernelspec": {
   "display_name": "Python 3 (ipykernel)",
   "language": "python",
   "name": "python3"
  },
  "language_info": {
   "codemirror_mode": {
    "name": "ipython",
    "version": 3
   },
   "file_extension": ".py",
   "mimetype": "text/x-python",
   "name": "python",
   "nbconvert_exporter": "python",
   "pygments_lexer": "ipython3",
   "version": "3.11.5"
  }
 },
 "nbformat": 4,
 "nbformat_minor": 5
}
