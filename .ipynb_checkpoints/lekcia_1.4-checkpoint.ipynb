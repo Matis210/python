{
 "cells": [
  {
   "cell_type": "code",
   "execution_count": 1,
   "id": "f5059632",
   "metadata": {},
   "outputs": [],
   "source": [
    "import math\n",
    "import random"
   ]
  },
  {
   "cell_type": "code",
   "execution_count": 2,
   "id": "8bcf326e",
   "metadata": {},
   "outputs": [],
   "source": [
    "def guess_number():\n",
    "    # Generate a random number between 1 and 100\n",
    "    secret_number = random.randint(1, 100)\n",
    "    \n",
    "    attempts = 0\n",
    "    max_attempts = 10\n",
    "    \n",
    "    print(\"[R] [A] [N] [D] [O] [M]: [?]\")\n",
    "    print(\"Welcome to the Number Guessing Game!\")\n",
    "    print(f\"I have selected a random number between 1 and 100. Try to guess it in {max_attempts} attempts.\")\n",
    "\n",
    "    while attempts < max_attempts:\n",
    "        try:\n",
    "            # Give player a hint if number is even or odd\n",
    "            if(secret_number %2 == 0):\n",
    "                print(\"Hint: Random number is even\")\n",
    "            else:\n",
    "                print(\"Hint: Random number is odd\")\n",
    "            # Get the player's guess\n",
    "            guess = int(input(\"Enter your guess: \"))\n",
    "            \n",
    "            # Increment the number of attempts\n",
    "            attempts += 1\n",
    "            \n",
    "            # Check if the guess is correct\n",
    "            if guess == secret_number:\n",
    "                print(f\"Congratulations! You guessed the correct number {secret_number} in {attempts} attempts.\")\n",
    "                break\n",
    "            elif guess < secret_number:\n",
    "                if((guess+5) >= secret_number):\n",
    "                    print(\"Too low, but close! Try to add up to 5.\")\n",
    "                else:\n",
    "                    print(\"Too low! Try again.\")\n",
    "       \n",
    "            else:\n",
    "                if((guess-5) <= secret_number):\n",
    "                    print(\"Too high, but close! Try subtract up to 5.\")\n",
    "                else:\n",
    "                    print(\"Too high! Try again.\")\n",
    "            \n",
    "        except ValueError:\n",
    "            print(\"Invalid input. Please enter a valid number.\")\n",
    "\n",
    "    else:\n",
    "        print(f\"Sorry, you've run out of attempts. The correct number was {secret_number}.\")\n",
    "\n",
    "# Run the game"
   ]
  },
  {
   "cell_type": "code",
   "execution_count": 6,
   "id": "ad518775",
   "metadata": {},
   "outputs": [
    {
     "name": "stdout",
     "output_type": "stream",
     "text": [
      "[R] [A] [N] [D] [O] [M]: [?]\n",
      "Welcome to the Number Guessing Game!\n",
      "I have selected a random number between 1 and 100. Try to guess it in 10 attempts.\n",
      "Hint: Random number is even\n",
      "Enter your guess: 68\n",
      "Too low! Try again.\n",
      "Hint: Random number is even\n",
      "Enter your guess: 88\n",
      "Congratulations! You guessed the correct number 88 in 2 attempts.\n"
     ]
    }
   ],
   "source": [
    "guess_number()"
   ]
  },
  {
   "cell_type": "code",
   "execution_count": null,
   "id": "880c254c",
   "metadata": {},
   "outputs": [],
   "source": []
  }
 ],
 "metadata": {
  "kernelspec": {
   "display_name": "Python 3 (ipykernel)",
   "language": "python",
   "name": "python3"
  },
  "language_info": {
   "codemirror_mode": {
    "name": "ipython",
    "version": 3
   },
   "file_extension": ".py",
   "mimetype": "text/x-python",
   "name": "python",
   "nbconvert_exporter": "python",
   "pygments_lexer": "ipython3",
   "version": "3.11.5"
  }
 },
 "nbformat": 4,
 "nbformat_minor": 5
}
