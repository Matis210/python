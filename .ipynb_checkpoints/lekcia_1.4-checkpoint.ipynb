{
 "cells": [
  {
   "cell_type": "code",
   "execution_count": 39,
   "id": "f5059632",
   "metadata": {},
   "outputs": [],
   "source": [
    "import math\n",
    "import random"
   ]
  },
  {
   "cell_type": "code",
   "execution_count": 40,
   "id": "6db5bc18",
   "metadata": {},
   "outputs": [],
   "source": [
    "number = random.randint(1,50)\n",
    "denied = 0"
   ]
  },
  {
   "cell_type": "code",
   "execution_count": 41,
   "id": "cfceb876",
   "metadata": {},
   "outputs": [
    {
     "name": "stdout",
     "output_type": "stream",
     "text": [
      "          ???          \n",
      "[R] [A] [N] [D] [O] [M]: [?]\n"
     ]
    }
   ],
   "source": [
    "print(\"          ???          \")\n",
    "print(\"[R] [A] [N] [D] [O] [M]: [?]\")"
   ]
  },
  {
   "cell_type": "code",
   "execution_count": 45,
   "id": "9767ede2",
   "metadata": {},
   "outputs": [
    {
     "name": "stdout",
     "output_type": "stream",
     "text": [
      "Which number is guessed?: 50\n",
      "BINGO!\n",
      "Number of denied attempts: 3\n"
     ]
    }
   ],
   "source": [
    "answer = int(input(\"Which number is guessed? (1-50): \"))\n",
    "if(answer==number):\n",
    "    print(\"BINGO!\")\n",
    "    print(f\"Number of denied attempts: {denied}\")\n",
    "elif(answer>number):\n",
    "    print(\"Your guessed value is too big.\")\n",
    "    denied = denied+1\n",
    "elif(answer<number):\n",
    "    print(\"Your guessed value is too small.\")\n",
    "    denied = denied+1"
   ]
  }
 ],
 "metadata": {
  "kernelspec": {
   "display_name": "Python 3 (ipykernel)",
   "language": "python",
   "name": "python3"
  },
  "language_info": {
   "codemirror_mode": {
    "name": "ipython",
    "version": 3
   },
   "file_extension": ".py",
   "mimetype": "text/x-python",
   "name": "python",
   "nbconvert_exporter": "python",
   "pygments_lexer": "ipython3",
   "version": "3.11.5"
  }
 },
 "nbformat": 4,
 "nbformat_minor": 5
}
