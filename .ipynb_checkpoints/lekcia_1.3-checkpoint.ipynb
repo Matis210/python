{
 "cells": [
  {
   "cell_type": "code",
   "execution_count": 4,
   "id": "ae85a666",
   "metadata": {},
   "outputs": [
    {
     "name": "stdout",
     "output_type": "stream",
     "text": [
      "Zadajte pocet kociek:2\n"
     ]
    }
   ],
   "source": [
    "import random\n",
    "#simulujme hod kockou a uzivatel zada kolko krat bude kocka hodena\n",
    "pocetK= int(input(\"Zadajte pocet kociek:\"))"
   ]
  },
  {
   "cell_type": "code",
   "execution_count": 23,
   "id": "b37bcd4e",
   "metadata": {},
   "outputs": [
    {
     "name": "stdout",
     "output_type": "stream",
     "text": [
      "[[5], [2]]\n",
      "[5, 5]\n"
     ]
    }
   ],
   "source": [
    "hody = []\n",
    "hody2 = []\n",
    "for x in range(pocetK):\n",
    "    hod= random.choices([1,2,3,4,5,6])\n",
    "    hody.append(hod)\n",
    "    hod2 = random.randint(1,6)\n",
    "    hody2.append(hod2)\n",
    "print(hody)\n",
    "print(hody2)"
   ]
  },
  {
   "cell_type": "code",
   "execution_count": null,
   "id": "c90b53c2",
   "metadata": {},
   "outputs": [],
   "source": []
  }
 ],
 "metadata": {
  "kernelspec": {
   "display_name": "Python 3 (ipykernel)",
   "language": "python",
   "name": "python3"
  },
  "language_info": {
   "codemirror_mode": {
    "name": "ipython",
    "version": 3
   },
   "file_extension": ".py",
   "mimetype": "text/x-python",
   "name": "python",
   "nbconvert_exporter": "python",
   "pygments_lexer": "ipython3",
   "version": "3.11.5"
  }
 },
 "nbformat": 4,
 "nbformat_minor": 5
}
