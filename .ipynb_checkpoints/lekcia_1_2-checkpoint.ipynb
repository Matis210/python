{
 "cells": [
  {
   "cell_type": "code",
   "execution_count": 4,
   "id": "1fa32a36",
   "metadata": {},
   "outputs": [
    {
     "name": "stdout",
     "output_type": "stream",
     "text": [
      "Zadajte premennu a:5\n",
      "Zadajte premennu b:9\n",
      "Zadajte premennu c:-8\n"
     ]
    }
   ],
   "source": [
    "import math\n",
    "#kvadraticka rovnica\n",
    "a = float(input(\"Zadajte premennu a:\"))\n",
    "b = float(input(\"Zadajte premennu b:\"))\n",
    "c = float(input(\"Zadajte premennu c:\"))"
   ]
  },
  {
   "cell_type": "code",
   "execution_count": 5,
   "id": "4f382176",
   "metadata": {},
   "outputs": [
    {
     "data": {
      "text/plain": [
       "241.0"
      ]
     },
     "execution_count": 5,
     "metadata": {},
     "output_type": "execute_result"
    }
   ],
   "source": [
    "D = pow(b,2)-(4*a*c)\n",
    "D"
   ]
  },
  {
   "cell_type": "code",
   "execution_count": 15,
   "id": "6d9f9837",
   "metadata": {},
   "outputs": [
    {
     "name": "stdout",
     "output_type": "stream",
     "text": [
      "Rovnica ma 2 riesenia.. \tVysledok 1: 0.65 , vysledok 2: -2.45\n",
      "koniec prikladu\n"
     ]
    }
   ],
   "source": [
    "if(D<0):\n",
    "    print(\"Nema riesenie v obore realnych cisel..\")\n",
    "elif(D==0):\n",
    "    print(\"Ma prave jedno riesenie..\")\n",
    "    vysledok = -b/(2*a)\n",
    "else:\n",
    "    print(\"Rovnica ma 2 riesenia.. \",end=\"\\t\")\n",
    "    vysledok1 = (-b+math.sqrt(D))/(2*a)\n",
    "    vysledok2 = (-b-math.sqrt(D))/(2*a)\n",
    "    print(f\"Vysledok 1: {round(vysledok1,2)} , vysledok 2: {round(vysledok2,2)}\")\n",
    "    print(\"koniec prikladu\")"
   ]
  },
  {
   "cell_type": "code",
   "execution_count": null,
   "id": "66fc1682",
   "metadata": {},
   "outputs": [],
   "source": []
  }
 ],
 "metadata": {
  "kernelspec": {
   "display_name": "Python 3 (ipykernel)",
   "language": "python",
   "name": "python3"
  },
  "language_info": {
   "codemirror_mode": {
    "name": "ipython",
    "version": 3
   },
   "file_extension": ".py",
   "mimetype": "text/x-python",
   "name": "python",
   "nbconvert_exporter": "python",
   "pygments_lexer": "ipython3",
   "version": "3.11.5"
  }
 },
 "nbformat": 4,
 "nbformat_minor": 5
}
