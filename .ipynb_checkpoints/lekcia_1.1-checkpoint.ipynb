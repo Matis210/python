{
 "cells": [
  {
   "cell_type": "code",
   "execution_count": 1,
   "id": "3cd3aebb",
   "metadata": {},
   "outputs": [
    {
     "name": "stdout",
     "output_type": "stream",
     "text": [
      "Zadajte vase meno:Matus\n",
      "Zadajte vase priezvisko:Potucek\n",
      "Zadajte brutto:1200\n"
     ]
    }
   ],
   "source": [
    "#kalkulacka na vypocet dani\n",
    "meno = input(\"Zadajte vase meno:\")\n",
    "priezvisko = input(\"Zadajte vase priezvisko:\")\n",
    "brutto = input(\"Zadajte brutto:\")"
   ]
  },
  {
   "cell_type": "code",
   "execution_count": 4,
   "id": "163fd62c",
   "metadata": {},
   "outputs": [
    {
     "data": {
      "text/plain": [
       "48.0"
      ]
     },
     "execution_count": 4,
     "metadata": {},
     "output_type": "execute_result"
    }
   ],
   "source": [
    "brutto = int(brutto)\n",
    "odvody = (brutto /100) *4\n",
    "odvody"
   ]
  },
  {
   "cell_type": "code",
   "execution_count": 7,
   "id": "51172e53",
   "metadata": {},
   "outputs": [
    {
     "data": {
      "text/plain": [
       "228.0"
      ]
     },
     "execution_count": 7,
     "metadata": {},
     "output_type": "execute_result"
    }
   ],
   "source": [
    "zdanenie = (brutto/100) * 19\n",
    "zdanenie"
   ]
  },
  {
   "cell_type": "code",
   "execution_count": 9,
   "id": "aef04c2d",
   "metadata": {},
   "outputs": [
    {
     "data": {
      "text/plain": [
       "924.0"
      ]
     },
     "execution_count": 9,
     "metadata": {},
     "output_type": "execute_result"
    }
   ],
   "source": [
    "cistyP = brutto - (odvody + zdanenie)\n",
    "cistyP"
   ]
  },
  {
   "cell_type": "code",
   "execution_count": 10,
   "id": "a854640d",
   "metadata": {},
   "outputs": [
    {
     "name": "stdout",
     "output_type": "stream",
     "text": [
      "meno: Matus , priezvisko: Potucek, cisty prijem: 924.0\n"
     ]
    }
   ],
   "source": [
    "print(f\"meno: {meno} , priezvisko: {priezvisko}, cisty prijem: {cistyP}\")"
   ]
  }
 ],
 "metadata": {
  "kernelspec": {
   "display_name": "Python 3 (ipykernel)",
   "language": "python",
   "name": "python3"
  },
  "language_info": {
   "codemirror_mode": {
    "name": "ipython",
    "version": 3
   },
   "file_extension": ".py",
   "mimetype": "text/x-python",
   "name": "python",
   "nbconvert_exporter": "python",
   "pygments_lexer": "ipython3",
   "version": "3.11.5"
  }
 },
 "nbformat": 4,
 "nbformat_minor": 5
}
